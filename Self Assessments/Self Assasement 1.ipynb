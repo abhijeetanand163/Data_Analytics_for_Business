{
 "cells": [
  {
   "cell_type": "code",
   "execution_count": null,
   "metadata": {},
   "outputs": [],
   "source": []
  },
  {
   "cell_type": "code",
   "execution_count": null,
   "metadata": {},
   "outputs": [],
   "source": []
  },
  {
   "cell_type": "code",
   "execution_count": 1,
   "metadata": {},
   "outputs": [
    {
     "name": "stderr",
     "output_type": "stream",
     "text": [
      "Updating HTML index of packages in '.Library'\n",
      "Making 'packages.html' ... done\n"
     ]
    }
   ],
   "source": [
    "install.packages(\"ISLR\")\n",
    "library(ISLR)\n",
    "data(\"Carseats\")"
   ]
  },
  {
   "cell_type": "markdown",
   "metadata": {},
   "source": [
    "    Looking into the Data Carseats"
   ]
  },
  {
   "cell_type": "code",
   "execution_count": 2,
   "metadata": {},
   "outputs": [
    {
     "data": {
      "text/html": [
       "\n",
       "<table width=\"100%\" summary=\"page for Carseats {ISLR}\"><tr><td>Carseats {ISLR}</td><td style=\"text-align: right;\">R Documentation</td></tr></table>\n",
       "\n",
       "<h2>Sales of Child Car Seats\n",
       "\n",
       "</h2>\n",
       "\n",
       "<h3>Description</h3>\n",
       "\n",
       "<p>A simulated data set containing sales of child car seats at\n",
       "400 different stores.\n",
       "\n",
       "</p>\n",
       "\n",
       "\n",
       "<h3>Usage</h3>\n",
       "\n",
       "<pre>Carseats</pre>\n",
       "\n",
       "\n",
       "<h3>Format</h3>\n",
       "\n",
       "<p>A data frame with 400 observations on the following 11 variables.\n",
       "</p>\n",
       "\n",
       "<dl>\n",
       "<dt><code>Sales</code></dt><dd><p>Unit sales (in thousands) at each location</p>\n",
       "</dd>\n",
       "<dt><code>CompPrice</code></dt><dd><p>Price charged by competitor at each location</p>\n",
       "</dd>\n",
       "<dt><code>Income</code></dt><dd><p>Community income level (in thousands of dollars)</p>\n",
       "</dd>\n",
       "<dt><code>Advertising</code></dt><dd><p>Local advertising budget for company at\n",
       "each location (in thousands of dollars)</p>\n",
       "</dd>\n",
       "<dt><code>Population</code></dt><dd><p>Population size in region (in thousands)</p>\n",
       "</dd>\n",
       "<dt><code>Price</code></dt><dd><p>Price company charges for car seats at each site</p>\n",
       "</dd>\n",
       "<dt><code>ShelveLoc</code></dt><dd><p>A factor with levels <code>Bad</code>, <code>Good</code>\n",
       "and <code>Medium</code> indicating the quality of the shelving location\n",
       "for the car seats at each site</p>\n",
       "</dd>\n",
       "<dt><code>Age</code></dt><dd><p>Average age of the local population</p>\n",
       "</dd>\n",
       "<dt><code>Education</code></dt><dd><p>Education level at each location</p>\n",
       "</dd>\n",
       "<dt><code>Urban</code></dt><dd><p>A factor with levels <code>No</code> and <code>Yes</code> to\n",
       "indicate whether the store is in an urban or rural location</p>\n",
       "</dd>\n",
       "<dt><code>US</code></dt><dd><p>A factor with levels <code>No</code> and <code>Yes</code> to\n",
       "indicate whether the store is in the US or not</p>\n",
       "</dd>\n",
       "</dl>\n",
       "\n",
       "\n",
       "\n",
       "<h3>Source</h3>\n",
       "\n",
       "<p>Simulated data\n",
       "\n",
       "</p>\n",
       "\n",
       "\n",
       "<h3>References</h3>\n",
       "\n",
       "<p>James, G., Witten, D., Hastie, T., and Tibshirani, R. (2013)\n",
       "<em>An Introduction to Statistical Learning with applications in R</em>,\n",
       "<a href=\"www.StatLearning.com\">www.StatLearning.com</a>,\n",
       "Springer-Verlag, New York\n",
       "</p>\n",
       "\n",
       "\n",
       "<h3>Examples</h3>\n",
       "\n",
       "<pre>\n",
       "summary(Carseats)\n",
       "lm.fit=lm(Sales~Advertising+Price,data=Carseats)\n",
       "</pre>\n",
       "\n",
       "<hr /><div style=\"text-align: center;\">[Package <em>ISLR</em> version 1.2 ]</div>"
      ],
      "text/latex": [
       "\\inputencoding{utf8}\n",
       "\\HeaderA{Carseats}{Sales of Child Car Seats}{Carseats}\n",
       "\\keyword{datasets}{Carseats}\n",
       "%\n",
       "\\begin{Description}\\relax\n",
       "A simulated data set containing sales of child car seats at\n",
       "400 different stores.\n",
       "\n",
       "\\end{Description}\n",
       "%\n",
       "\\begin{Usage}\n",
       "\\begin{verbatim}\n",
       "Carseats\n",
       "\\end{verbatim}\n",
       "\\end{Usage}\n",
       "%\n",
       "\\begin{Format}\n",
       "A data frame with 400 observations on the following 11 variables.\n",
       "\\begin{description}\n",
       "\n",
       "\\item[\\code{Sales}] Unit sales (in thousands) at each location\n",
       "\\item[\\code{CompPrice}] Price charged by competitor at each location\n",
       "\\item[\\code{Income}] Community income level (in thousands of dollars)\n",
       "\\item[\\code{Advertising}] Local advertising budget for company at\n",
       "each location (in thousands of dollars)\n",
       "\\item[\\code{Population}] Population size in region (in thousands)\n",
       "\\item[\\code{Price}] Price company charges for car seats at each site\n",
       "\\item[\\code{ShelveLoc}] A factor with levels \\code{Bad}, \\code{Good}\n",
       "and \\code{Medium} indicating the quality of the shelving location\n",
       "for the car seats at each site\n",
       "\\item[\\code{Age}] Average age of the local population\n",
       "\\item[\\code{Education}] Education level at each location\n",
       "\\item[\\code{Urban}] A factor with levels \\code{No} and \\code{Yes} to\n",
       "indicate whether the store is in an urban or rural location\n",
       "\\item[\\code{US}] A factor with levels \\code{No} and \\code{Yes} to\n",
       "indicate whether the store is in the US or not\n",
       "\n",
       "\\end{description}\n",
       "\n",
       "\\end{Format}\n",
       "%\n",
       "\\begin{Source}\\relax\n",
       "Simulated data\n",
       "\n",
       "\\end{Source}\n",
       "%\n",
       "\\begin{References}\\relax\n",
       "James, G., Witten, D., Hastie, T., and Tibshirani, R. (2013)\n",
       "\\emph{An Introduction to Statistical Learning with applications in R},\n",
       "\\url{www.StatLearning.com},\n",
       "Springer-Verlag, New York\n",
       "\\end{References}\n",
       "%\n",
       "\\begin{Examples}\n",
       "\\begin{ExampleCode}\n",
       "summary(Carseats)\n",
       "lm.fit=lm(Sales~Advertising+Price,data=Carseats)\n",
       "\\end{ExampleCode}\n",
       "\\end{Examples}"
      ],
      "text/plain": [
       "Carseats                 package:ISLR                  R Documentation\n",
       "\n",
       "_\bS_\ba_\bl_\be_\bs _\bo_\bf _\bC_\bh_\bi_\bl_\bd _\bC_\ba_\br _\bS_\be_\ba_\bt_\bs\n",
       "\n",
       "_\bD_\be_\bs_\bc_\br_\bi_\bp_\bt_\bi_\bo_\bn:\n",
       "\n",
       "     A simulated data set containing sales of child car seats at 400\n",
       "     different stores.\n",
       "\n",
       "_\bU_\bs_\ba_\bg_\be:\n",
       "\n",
       "     Carseats\n",
       "     \n",
       "_\bF_\bo_\br_\bm_\ba_\bt:\n",
       "\n",
       "     A data frame with 400 observations on the following 11 variables.\n",
       "\n",
       "     ‘Sales’ Unit sales (in thousands) at each location\n",
       "\n",
       "     ‘CompPrice’ Price charged by competitor at each location\n",
       "\n",
       "     ‘Income’ Community income level (in thousands of dollars)\n",
       "\n",
       "     ‘Advertising’ Local advertising budget for company at each\n",
       "          location (in thousands of dollars)\n",
       "\n",
       "     ‘Population’ Population size in region (in thousands)\n",
       "\n",
       "     ‘Price’ Price company charges for car seats at each site\n",
       "\n",
       "     ‘ShelveLoc’ A factor with levels ‘Bad’, ‘Good’ and ‘Medium’\n",
       "          indicating the quality of the shelving location for the car\n",
       "          seats at each site\n",
       "\n",
       "     ‘Age’ Average age of the local population\n",
       "\n",
       "     ‘Education’ Education level at each location\n",
       "\n",
       "     ‘Urban’ A factor with levels ‘No’ and ‘Yes’ to indicate whether\n",
       "          the store is in an urban or rural location\n",
       "\n",
       "     ‘US’ A factor with levels ‘No’ and ‘Yes’ to indicate whether the\n",
       "          store is in the US or not\n",
       "\n",
       "_\bS_\bo_\bu_\br_\bc_\be:\n",
       "\n",
       "     Simulated data\n",
       "\n",
       "_\bR_\be_\bf_\be_\br_\be_\bn_\bc_\be_\bs:\n",
       "\n",
       "     James, G., Witten, D., Hastie, T., and Tibshirani, R. (2013) _An\n",
       "     Introduction to Statistical Learning with applications in R_,\n",
       "     <URL: www.StatLearning.com>, Springer-Verlag, New York\n",
       "\n",
       "_\bE_\bx_\ba_\bm_\bp_\bl_\be_\bs:\n",
       "\n",
       "     summary(Carseats)\n",
       "     lm.fit=lm(Sales~Advertising+Price,data=Carseats)\n",
       "     "
      ]
     },
     "metadata": {},
     "output_type": "display_data"
    }
   ],
   "source": [
    "?Carseats"
   ]
  },
  {
   "cell_type": "markdown",
   "metadata": {},
   "source": [
    "    Looking at the columns !!"
   ]
  },
  {
   "cell_type": "code",
   "execution_count": 3,
   "metadata": {},
   "outputs": [
    {
     "data": {
      "text/html": [
       "<table>\n",
       "<thead><tr><th scope=col>Sales</th><th scope=col>CompPrice</th><th scope=col>Income</th><th scope=col>Advertising</th><th scope=col>Population</th><th scope=col>Price</th><th scope=col>ShelveLoc</th><th scope=col>Age</th><th scope=col>Education</th><th scope=col>Urban</th><th scope=col>US</th></tr></thead>\n",
       "<tbody>\n",
       "\t<tr><td> 9.50 </td><td>138   </td><td> 73   </td><td>11    </td><td>276   </td><td>120   </td><td>Bad   </td><td>42    </td><td>17    </td><td>Yes   </td><td>Yes   </td></tr>\n",
       "\t<tr><td>11.22 </td><td>111   </td><td> 48   </td><td>16    </td><td>260   </td><td> 83   </td><td>Good  </td><td>65    </td><td>10    </td><td>Yes   </td><td>Yes   </td></tr>\n",
       "\t<tr><td>10.06 </td><td>113   </td><td> 35   </td><td>10    </td><td>269   </td><td> 80   </td><td>Medium</td><td>59    </td><td>12    </td><td>Yes   </td><td>Yes   </td></tr>\n",
       "\t<tr><td> 7.40 </td><td>117   </td><td>100   </td><td> 4    </td><td>466   </td><td> 97   </td><td>Medium</td><td>55    </td><td>14    </td><td>Yes   </td><td>Yes   </td></tr>\n",
       "\t<tr><td> 4.15 </td><td>141   </td><td> 64   </td><td> 3    </td><td>340   </td><td>128   </td><td>Bad   </td><td>38    </td><td>13    </td><td>Yes   </td><td>No    </td></tr>\n",
       "\t<tr><td>10.81 </td><td>124   </td><td>113   </td><td>13    </td><td>501   </td><td> 72   </td><td>Bad   </td><td>78    </td><td>16    </td><td>No    </td><td>Yes   </td></tr>\n",
       "\t<tr><td> 6.63 </td><td>115   </td><td>105   </td><td> 0    </td><td> 45   </td><td>108   </td><td>Medium</td><td>71    </td><td>15    </td><td>Yes   </td><td>No    </td></tr>\n",
       "\t<tr><td>11.85 </td><td>136   </td><td> 81   </td><td>15    </td><td>425   </td><td>120   </td><td>Good  </td><td>67    </td><td>10    </td><td>Yes   </td><td>Yes   </td></tr>\n",
       "\t<tr><td> 6.54 </td><td>132   </td><td>110   </td><td> 0    </td><td>108   </td><td>124   </td><td>Medium</td><td>76    </td><td>10    </td><td>No    </td><td>No    </td></tr>\n",
       "\t<tr><td> 4.69 </td><td>132   </td><td>113   </td><td> 0    </td><td>131   </td><td>124   </td><td>Medium</td><td>76    </td><td>17    </td><td>No    </td><td>Yes   </td></tr>\n",
       "</tbody>\n",
       "</table>\n"
      ],
      "text/latex": [
       "\\begin{tabular}{r|lllllllllll}\n",
       " Sales & CompPrice & Income & Advertising & Population & Price & ShelveLoc & Age & Education & Urban & US\\\\\n",
       "\\hline\n",
       "\t  9.50  & 138    &  73    & 11     & 276    & 120    & Bad    & 42     & 17     & Yes    & Yes   \\\\\n",
       "\t 11.22  & 111    &  48    & 16     & 260    &  83    & Good   & 65     & 10     & Yes    & Yes   \\\\\n",
       "\t 10.06  & 113    &  35    & 10     & 269    &  80    & Medium & 59     & 12     & Yes    & Yes   \\\\\n",
       "\t  7.40  & 117    & 100    &  4     & 466    &  97    & Medium & 55     & 14     & Yes    & Yes   \\\\\n",
       "\t  4.15  & 141    &  64    &  3     & 340    & 128    & Bad    & 38     & 13     & Yes    & No    \\\\\n",
       "\t 10.81  & 124    & 113    & 13     & 501    &  72    & Bad    & 78     & 16     & No     & Yes   \\\\\n",
       "\t  6.63  & 115    & 105    &  0     &  45    & 108    & Medium & 71     & 15     & Yes    & No    \\\\\n",
       "\t 11.85  & 136    &  81    & 15     & 425    & 120    & Good   & 67     & 10     & Yes    & Yes   \\\\\n",
       "\t  6.54  & 132    & 110    &  0     & 108    & 124    & Medium & 76     & 10     & No     & No    \\\\\n",
       "\t  4.69  & 132    & 113    &  0     & 131    & 124    & Medium & 76     & 17     & No     & Yes   \\\\\n",
       "\\end{tabular}\n"
      ],
      "text/markdown": [
       "\n",
       "| Sales | CompPrice | Income | Advertising | Population | Price | ShelveLoc | Age | Education | Urban | US |\n",
       "|---|---|---|---|---|---|---|---|---|---|---|\n",
       "|  9.50  | 138    |  73    | 11     | 276    | 120    | Bad    | 42     | 17     | Yes    | Yes    |\n",
       "| 11.22  | 111    |  48    | 16     | 260    |  83    | Good   | 65     | 10     | Yes    | Yes    |\n",
       "| 10.06  | 113    |  35    | 10     | 269    |  80    | Medium | 59     | 12     | Yes    | Yes    |\n",
       "|  7.40  | 117    | 100    |  4     | 466    |  97    | Medium | 55     | 14     | Yes    | Yes    |\n",
       "|  4.15  | 141    |  64    |  3     | 340    | 128    | Bad    | 38     | 13     | Yes    | No     |\n",
       "| 10.81  | 124    | 113    | 13     | 501    |  72    | Bad    | 78     | 16     | No     | Yes    |\n",
       "|  6.63  | 115    | 105    |  0     |  45    | 108    | Medium | 71     | 15     | Yes    | No     |\n",
       "| 11.85  | 136    |  81    | 15     | 425    | 120    | Good   | 67     | 10     | Yes    | Yes    |\n",
       "|  6.54  | 132    | 110    |  0     | 108    | 124    | Medium | 76     | 10     | No     | No     |\n",
       "|  4.69  | 132    | 113    |  0     | 131    | 124    | Medium | 76     | 17     | No     | Yes    |\n",
       "\n"
      ],
      "text/plain": [
       "   Sales CompPrice Income Advertising Population Price ShelveLoc Age Education\n",
       "1   9.50 138        73    11          276        120   Bad       42  17       \n",
       "2  11.22 111        48    16          260         83   Good      65  10       \n",
       "3  10.06 113        35    10          269         80   Medium    59  12       \n",
       "4   7.40 117       100     4          466         97   Medium    55  14       \n",
       "5   4.15 141        64     3          340        128   Bad       38  13       \n",
       "6  10.81 124       113    13          501         72   Bad       78  16       \n",
       "7   6.63 115       105     0           45        108   Medium    71  15       \n",
       "8  11.85 136        81    15          425        120   Good      67  10       \n",
       "9   6.54 132       110     0          108        124   Medium    76  10       \n",
       "10  4.69 132       113     0          131        124   Medium    76  17       \n",
       "   Urban US \n",
       "1  Yes   Yes\n",
       "2  Yes   Yes\n",
       "3  Yes   Yes\n",
       "4  Yes   Yes\n",
       "5  Yes   No \n",
       "6  No    Yes\n",
       "7  Yes   No \n",
       "8  Yes   Yes\n",
       "9  No    No \n",
       "10 No    Yes"
      ]
     },
     "metadata": {},
     "output_type": "display_data"
    }
   ],
   "source": [
    "head(Carseats, 10)"
   ]
  },
  {
   "cell_type": "markdown",
   "metadata": {},
   "source": [
    "    For Questions 1-4: \n",
    "    1. Create a linear regression model (using the lm function) with Sales as the dependent variable and Price as the independent variable.\n",
    "       What is this model’s adjusted R-squared value?"
   ]
  },
  {
   "cell_type": "code",
   "execution_count": 9,
   "metadata": {},
   "outputs": [
    {
     "data": {
      "text/plain": [
       "\n",
       "Call:\n",
       "lm(formula = Sales ~ Price, data = Carseats)\n",
       "\n",
       "Coefficients:\n",
       "(Intercept)        Price  \n",
       "   13.64192     -0.05307  \n"
      ]
     },
     "metadata": {},
     "output_type": "display_data"
    }
   ],
   "source": [
    "## Here Sales is dependent and price is independent. \n",
    "\n",
    "## for multiple regression , price is dependent and lotsize and bedrooms are independent with data on housing\n",
    "## lm(formula = price ~ lotsize + bedrooms, data = Housing)\n",
    "## General trend goes like this: \n",
    "# lm(formula = dependent variable ~ independent variable or independent variables, data = 'dataframe name')\n",
    "\n",
    "a.lm <- lm(formula = Sales ~ Price , data = Carseats)\n",
    "a.lm"
   ]
  },
  {
   "cell_type": "code",
   "execution_count": 10,
   "metadata": {},
   "outputs": [
    {
     "data": {
      "text/plain": [
       "\n",
       "Call:\n",
       "lm(formula = Sales ~ Price, data = Carseats)\n",
       "\n",
       "Residuals:\n",
       "    Min      1Q  Median      3Q     Max \n",
       "-6.5224 -1.8442 -0.1459  1.6503  7.5108 \n",
       "\n",
       "Coefficients:\n",
       "             Estimate Std. Error t value Pr(>|t|)    \n",
       "(Intercept) 13.641915   0.632812  21.558   <2e-16 ***\n",
       "Price       -0.053073   0.005354  -9.912   <2e-16 ***\n",
       "---\n",
       "Signif. codes:  0 ‘***’ 0.001 ‘**’ 0.01 ‘*’ 0.05 ‘.’ 0.1 ‘ ’ 1\n",
       "\n",
       "Residual standard error: 2.532 on 398 degrees of freedom\n",
       "Multiple R-squared:  0.198,\tAdjusted R-squared:  0.196 \n",
       "F-statistic: 98.25 on 1 and 398 DF,  p-value: < 2.2e-16\n"
      ]
     },
     "metadata": {},
     "output_type": "display_data"
    }
   ],
   "source": [
    "summary(a.lm)"
   ]
  },
  {
   "cell_type": "markdown",
   "metadata": {},
   "source": [
    "``` \n",
    "Solution : Adjusted R-squared is 0.196\n",
    "```{r}"
   ]
  },
  {
   "cell_type": "markdown",
   "metadata": {},
   "source": [
    "    2. Based on the model in Question 1, what is the estimated Coefficient of Price?"
   ]
  },
  {
   "cell_type": "markdown",
   "metadata": {},
   "source": [
    "```\n",
    "Solution: Estimated Coefficients is -0.053073\n",
    "``` {r}"
   ]
  },
  {
   "cell_type": "markdown",
   "metadata": {},
   "source": [
    "    3. Based on the model in Question 1, what is the t-value of the Coefficient of Price?"
   ]
  },
  {
   "cell_type": "code",
   "execution_count": null,
   "metadata": {},
   "outputs": [],
   "source": []
  }
 ],
 "metadata": {
  "kernelspec": {
   "display_name": "R",
   "language": "R",
   "name": "ir"
  },
  "language_info": {
   "codemirror_mode": "r",
   "file_extension": ".r",
   "mimetype": "text/x-r-source",
   "name": "R",
   "pygments_lexer": "r",
   "version": "3.6.0"
  }
 },
 "nbformat": 4,
 "nbformat_minor": 2
}
