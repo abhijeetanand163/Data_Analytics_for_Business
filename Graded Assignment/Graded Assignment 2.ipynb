{
 "cells": [
  {
   "cell_type": "code",
   "execution_count": null,
   "metadata": {},
   "outputs": [],
   "source": []
  },
  {
   "cell_type": "markdown",
   "metadata": {},
   "source": [
    "    Graded Homework #2 covers the topics in Weeks 1, 2, 3, 4, 5 and 6 and is worth 10% of your overall grade. \n",
    "    You may work on the homework for as long as you like within the given window. You are allowed only ONE attempt. \n",
    "    Please note that as long as you don't click \"submit\" for a question, you can change your answer as many times as needed. \n",
    "    You should only click \"submit\" when you are completely finished with the question and ready to submit your answer for grading. \n",
    "\n",
    "    Good luck!"
   ]
  },
  {
   "cell_type": "markdown",
   "metadata": {},
   "source": [
    "\n",
    "\n",
    "\n",
    "### Question 1\n",
    "    5.0 points possible (graded, results hidden)\n",
    "\n",
    "    In a linear regression problem, we are using “R-squared” to measure goodness-of-fit.\n",
    "    We add a feature (variable) in linear regression model and retrain the same model. Which of the following option is true?\n",
    "\n",
    "        1. If R Squared increases, this variable is significant.\n",
    "        2. If R Squared decreases, this variable is not significant.\n",
    "        3. Individually R squared cannot tell about variable importance. We can’t say anything about it right now.\n",
    "        4. None of these. "
   ]
  },
  {
   "cell_type": "markdown",
   "metadata": {},
   "source": [
    "#### Solution: 3\n",
    "\n",
    "    “R squared” individually can’t tell whether a variable is significant or not because each time when we add a feature,\n",
    "    “R squared” can either increase or stay constant. But, it is not true in case of “Adjusted R squared” (increases when features found to be significant)."
   ]
  },
  {
   "cell_type": "markdown",
   "metadata": {},
   "source": [
    "### Question 2\n",
    "    5.0 points possible (graded, results hidden)\n",
    "\n",
    "    A correlation between age and health of a person found to be -1.09. On the basis of this you would tell the doctors that:\n",
    "\n",
    "        1. Age is a good predictor of health\n",
    "        2. Health is a good predictor of age\n",
    "        3. Age is a poor predictor of health\n",
    "        4. None of these "
   ]
  },
  {
   "cell_type": "markdown",
   "metadata": {},
   "source": [
    "#### Solution : 4\n",
    "\n",
    "    None of These\n",
    "    \n",
    "    Correlation value cannot exceed absolute value of 1."
   ]
  },
  {
   "cell_type": "markdown",
   "metadata": {},
   "source": [
    "### Question 3\n",
    "\n",
    "    5.0 points possible (graded, results hidden)\n",
    "    \n",
    "    You work for a bank where you are trying to predict the probability of default of a customer based on FICO score and annual income.\n",
    "    Which of the following problems can arise while using a multiple linear regression model?\n",
    "    \n",
    "        1. There exists homoskedasticity in the model.\n",
    "        2. The model can produce predicted probabilities that are less than zero and greater than one.\n",
    "        3. The model leads to the omitted variable bias as only two independent factors can be included in the model.\n",
    "        4. The model leads to an overestimation of the effect of independent variables on the dependent variable. "
   ]
  },
  {
   "cell_type": "code",
   "execution_count": null,
   "metadata": {},
   "outputs": [],
   "source": []
  },
  {
   "cell_type": "code",
   "execution_count": null,
   "metadata": {},
   "outputs": [],
   "source": []
  },
  {
   "cell_type": "markdown",
   "metadata": {},
   "source": [
    "_______________________________________________________________________________________________\n",
    "\n",
    "    We try to build a model for NBA players’ salary.\n",
    "    \n",
    "    Download the dataset nba2017.csv from here: https://www.dropbox.com/s/pe3urv1mv9s8mwb/nba2017%20%281%29.csv?dl=0\n",
    "\n",
    "    Load the dataset using the code nba = read.csv(\"nba2017.csv\", header = TRUE).\n",
    "    \n",
    "    Now we take a closer look at the data set. There are four variables salary, Ht(Height), Exp(Experience) and expsq(the square of Experience).\n",
    "    \n",
    "    First, build a model using salary as the response and Ht and Exp as variables and denote it as Model_1.\n",
    "    \n",
    "    Build a second model using log(salary) as the response and Ht and Exp as variables, we denote it as Model_2.\n"
   ]
  },
  {
   "cell_type": "code",
   "execution_count": 3,
   "metadata": {},
   "outputs": [],
   "source": [
    "# Code\n",
    "library(tidyverse) \n",
    "\n",
    "# Reading data\n",
    "nba = read.csv(\"nba2017.csv\", header = TRUE)"
   ]
  },
  {
   "cell_type": "code",
   "execution_count": 6,
   "metadata": {},
   "outputs": [
    {
     "data": {
      "text/plain": [
       "\n",
       "Call:\n",
       "lm(formula = Salary ~ Ht + Exp, data = nba)\n",
       "\n",
       "Coefficients:\n",
       "(Intercept)           Ht          Exp  \n",
       "  -12353214      2253985       677390  \n"
      ]
     },
     "metadata": {},
     "output_type": "display_data"
    },
    {
     "data": {
      "text/plain": [
       "\n",
       "Call:\n",
       "lm(formula = Salary ~ Ht + Exp, data = nba)\n",
       "\n",
       "Residuals:\n",
       "      Min        1Q    Median        3Q       Max \n",
       "-11584274  -2907609  -1371039   1880620  19884672 \n",
       "\n",
       "Coefficients:\n",
       "             Estimate Std. Error t value Pr(>|t|)    \n",
       "(Intercept) -12353214    5785552  -2.135   0.0332 *  \n",
       "Ht            2253985     874758   2.577   0.0103 *  \n",
       "Exp            677390      61100  11.087   <2e-16 ***\n",
       "---\n",
       "Signif. codes:  0 ‘***’ 0.001 ‘**’ 0.01 ‘*’ 0.05 ‘.’ 0.1 ‘ ’ 1\n",
       "\n",
       "Residual standard error: 5728000 on 496 degrees of freedom\n",
       "Multiple R-squared:  0.2042,\tAdjusted R-squared:  0.201 \n",
       "F-statistic: 63.65 on 2 and 496 DF,  p-value: < 2.2e-16\n"
      ]
     },
     "metadata": {},
     "output_type": "display_data"
    }
   ],
   "source": [
    "model_1 <- lm(formula = Salary ~ Ht + Exp , data = nba)\n",
    "model_1\n",
    "summary(model_1)"
   ]
  },
  {
   "cell_type": "code",
   "execution_count": 7,
   "metadata": {},
   "outputs": [
    {
     "data": {
      "text/plain": [
       "\n",
       "Call:\n",
       "lm(formula = log(Salary) ~ Ht + Exp, data = nba)\n",
       "\n",
       "Coefficients:\n",
       "(Intercept)           Ht          Exp  \n",
       "     9.3942       0.6889       0.1674  \n"
      ]
     },
     "metadata": {},
     "output_type": "display_data"
    },
    {
     "data": {
      "text/plain": [
       "\n",
       "Call:\n",
       "lm(formula = log(Salary) ~ Ht + Exp, data = nba)\n",
       "\n",
       "Residuals:\n",
       "    Min      1Q  Median      3Q     Max \n",
       "-6.0100 -0.6698  0.2475  1.0030  2.6381 \n",
       "\n",
       "Coefficients:\n",
       "            Estimate Std. Error t value Pr(>|t|)    \n",
       "(Intercept)  9.39419    1.39946   6.713 5.24e-11 ***\n",
       "Ht           0.68885    0.21159   3.256  0.00121 ** \n",
       "Exp          0.16738    0.01478  11.325  < 2e-16 ***\n",
       "---\n",
       "Signif. codes:  0 ‘***’ 0.001 ‘**’ 0.01 ‘*’ 0.05 ‘.’ 0.1 ‘ ’ 1\n",
       "\n",
       "Residual standard error: 1.385 on 496 degrees of freedom\n",
       "Multiple R-squared:  0.2151,\tAdjusted R-squared:  0.2119 \n",
       "F-statistic: 67.96 on 2 and 496 DF,  p-value: < 2.2e-16\n"
      ]
     },
     "metadata": {},
     "output_type": "display_data"
    }
   ],
   "source": [
    "model_2 <- lm(formula = log(Salary) ~ Ht + Exp , data = nba)\n",
    "model_2\n",
    "summary(model_2)"
   ]
  },
  {
   "cell_type": "markdown",
   "metadata": {},
   "source": [
    "### Question 4\n",
    "\n",
    "    5.0 points possible (graded, results hidden)\n",
    "\n",
    "    For Model_1, what is the interpretation for the coefficient of height?\n",
    "\n",
    "    1. One unit increase in height increases salary by 2253985 units\n",
    "    2. One unit increase in height increases salary by 874758 units\n",
    "    3. One unit increase in height decreases salary by 677390 units\n",
    "    4. One unit increase in height increases salary by 677390 units "
   ]
  },
  {
   "cell_type": "markdown",
   "metadata": {},
   "source": [
    "#### Solution : 1"
   ]
  },
  {
   "cell_type": "markdown",
   "metadata": {},
   "source": [
    "### Question 5\n",
    "\n",
    "    5.0 points possible (graded, results hidden)\n",
    "\n",
    "    For Model_2, what is the interpretation for the coefficient of height?\n",
    "\n",
    "        1. When height increases by 1%, salary increases by 68.89%\n",
    "        2. When height increases by 1 unit, salary increases by 0.6889%\n",
    "        3. When height increases by 1%, salary increases by 0.6889 units\n",
    "        4. When height increases by 1 unit, salary increases by 68.89% "
   ]
  },
  {
   "cell_type": "markdown",
   "metadata": {},
   "source": [
    "#### Solution 4:\n",
    "    Property of Log linear model. \n"
   ]
  },
  {
   "cell_type": "code",
   "execution_count": null,
   "metadata": {},
   "outputs": [],
   "source": []
  }
 ],
 "metadata": {
  "kernelspec": {
   "display_name": "R",
   "language": "R",
   "name": "ir"
  },
  "language_info": {
   "codemirror_mode": "r",
   "file_extension": ".r",
   "mimetype": "text/x-r-source",
   "name": "R",
   "pygments_lexer": "r",
   "version": "3.6.0"
  }
 },
 "nbformat": 4,
 "nbformat_minor": 2
}
