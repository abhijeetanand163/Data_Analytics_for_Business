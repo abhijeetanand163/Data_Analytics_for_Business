{
 "cells": [
  {
   "cell_type": "markdown",
   "metadata": {},
   "source": [
    "\n",
    "    Title: \"Week7\"\n",
    "    author: \"Srikar Polasanapalli\"\n",
    "    date: \"September 22, 2019\"\n",
    "    output: word_document\n"
   ]
  },
  {
   "cell_type": "code",
   "execution_count": 4,
   "metadata": {},
   "outputs": [],
   "source": [
    "library(PerformanceAnalytics)\n",
    "library(xts)\n",
    "library(lubridate)"
   ]
  },
  {
   "cell_type": "code",
   "execution_count": null,
   "metadata": {},
   "outputs": [],
   "source": []
  },
  {
   "cell_type": "code",
   "execution_count": 5,
   "metadata": {},
   "outputs": [],
   "source": [
    "# load data and create an xts dataset\n",
    "fund<-read.csv(\"contrafund.csv\")\n",
    "fund$Date<-mdy(fund$Date)\n",
    "fund2<-fund[order(fund$Date),]\n",
    "#create an xts dataset\n",
    "All.dat<-xts(fund2[,-1],order.by=fund2[,1],)\n"
   ]
  },
  {
   "cell_type": "code",
   "execution_count": 6,
   "metadata": {},
   "outputs": [
    {
     "data": {
      "text/html": [
       "<table>\n",
       "<thead><tr><th></th><th scope=col>ContraRet</th><th scope=col>Market.Return</th><th scope=col>Risk.Free</th></tr></thead>\n",
       "<tbody>\n",
       "\t<tr><th scope=row>Cumulative Return</th><td>141.5677</td><td>69.29182</td><td>4.072008</td></tr>\n",
       "</tbody>\n",
       "</table>\n"
      ],
      "text/latex": [
       "\\begin{tabular}{r|lll}\n",
       "  & ContraRet & Market.Return & Risk.Free\\\\\n",
       "\\hline\n",
       "\tCumulative Return & 141.5677 & 69.29182 & 4.072008\\\\\n",
       "\\end{tabular}\n"
      ],
      "text/markdown": [
       "\n",
       "| <!--/--> | ContraRet | Market.Return | Risk.Free |\n",
       "|---|---|---|---|\n",
       "| Cumulative Return | 141.5677 | 69.29182 | 4.072008 |\n",
       "\n"
      ],
      "text/plain": [
       "                  ContraRet Market.Return Risk.Free\n",
       "Cumulative Return 141.5677  69.29182      4.072008 "
      ]
     },
     "metadata": {},
     "output_type": "display_data"
    },
    {
     "data": {
      "text/html": [
       "<table>\n",
       "<thead><tr><th></th><th scope=col>ContraRet</th></tr></thead>\n",
       "<tbody>\n",
       "\t<tr><th scope=row>StdDev Sharpe (Rf=0.4%, p=95%):</th><td>0.19010682</td></tr>\n",
       "\t<tr><th scope=row>VaR Sharpe (Rf=0.4%, p=95%):</th><td>0.12900607</td></tr>\n",
       "\t<tr><th scope=row>ES Sharpe (Rf=0.4%, p=95%):</th><td>0.05971594</td></tr>\n",
       "</tbody>\n",
       "</table>\n"
      ],
      "text/latex": [
       "\\begin{tabular}{r|l}\n",
       "  & ContraRet\\\\\n",
       "\\hline\n",
       "\tStdDev Sharpe (Rf=0.4\\%, p=95\\%): & 0.19010682\\\\\n",
       "\tVaR Sharpe (Rf=0.4\\%, p=95\\%): & 0.12900607\\\\\n",
       "\tES Sharpe (Rf=0.4\\%, p=95\\%): & 0.05971594\\\\\n",
       "\\end{tabular}\n"
      ],
      "text/markdown": [
       "\n",
       "| <!--/--> | ContraRet |\n",
       "|---|---|\n",
       "| StdDev Sharpe (Rf=0.4%, p=95%): | 0.19010682 |\n",
       "| VaR Sharpe (Rf=0.4%, p=95%): | 0.12900607 |\n",
       "| ES Sharpe (Rf=0.4%, p=95%): | 0.05971594 |\n",
       "\n"
      ],
      "text/plain": [
       "                                ContraRet \n",
       "StdDev Sharpe (Rf=0.4%, p=95%): 0.19010682\n",
       "VaR Sharpe (Rf=0.4%, p=95%):    0.12900607\n",
       "ES Sharpe (Rf=0.4%, p=95%):     0.05971594"
      ]
     },
     "metadata": {},
     "output_type": "display_data"
    },
    {
     "data": {
      "text/html": [
       "0.100583827242311"
      ],
      "text/latex": [
       "0.100583827242311"
      ],
      "text/markdown": [
       "0.100583827242311"
      ],
      "text/plain": [
       "[1] 0.1005838"
      ]
     },
     "metadata": {},
     "output_type": "display_data"
    },
    {
     "data": {
      "text/plain": [
       "\n",
       "Call:\n",
       "lm(formula = FundExcess ~ MktExcess, data = All.dat)\n",
       "\n",
       "Residuals:\n",
       "      Min        1Q    Median        3Q       Max \n",
       "-0.087553 -0.009588  0.001373  0.010343  0.060880 \n",
       "\n",
       "Coefficients:\n",
       "             Estimate Std. Error t value Pr(>|t|)    \n",
       "(Intercept) 0.0021850  0.0008362   2.613  0.00927 ** \n",
       "MktExcess   0.9013625  0.0188580  47.797  < 2e-16 ***\n",
       "---\n",
       "Signif. codes:  0 '***' 0.001 '**' 0.01 '*' 0.05 '.' 0.1 ' ' 1\n",
       "\n",
       "Residual standard error: 0.01777 on 460 degrees of freedom\n",
       "Multiple R-squared:  0.8324,\tAdjusted R-squared:  0.832 \n",
       "F-statistic:  2285 on 1 and 460 DF,  p-value: < 2.2e-16\n"
      ]
     },
     "metadata": {},
     "output_type": "display_data"
    },
    {
     "data": {
      "image/png": "[encoded data removed]",
      "text/plain": [
       "plot without title"
      ]
     },
     "metadata": {},
     "output_type": "display_data"
    }
   ],
   "source": [
    "Return.cumulative(All.dat, geometric =TRUE)\n",
    "chart.CumReturns(All.dat, wealth.index =FALSE, geometric = TRUE)\n",
    "\n",
    "SharpeRatio(All.dat$ContraRet,All.dat$Risk.Free)\n",
    "TreynorRatio(All.dat$ContraRet,All.dat$Market.Return,All.dat$Risk.Free)\n",
    "\n",
    "All.dat<-transform(All.dat,MktExcess=Market.Return-Risk.Free,FundExcess=ContraRet-Risk.Free)\n",
    "\n",
    "Alpha=lm(FundExcess~MktExcess,data=All.dat)\n",
    "summary(Alpha)"
   ]
  },
  {
   "cell_type": "code",
   "execution_count": null,
   "metadata": {},
   "outputs": [],
   "source": []
  }
 ],
 "metadata": {
  "kernelspec": {
   "display_name": "R",
   "language": "R",
   "name": "ir"
  },
  "language_info": {
   "codemirror_mode": "r",
   "file_extension": ".r",
   "mimetype": "text/x-r-source",
   "name": "R",
   "pygments_lexer": "r",
   "version": "3.6.1"
  }
 },
 "nbformat": 4,
 "nbformat_minor": 4
}
